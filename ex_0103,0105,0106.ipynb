{
 "cells": [
  {
   "cell_type": "code",
   "execution_count": 12,
   "id": "e3366706-9956-45d4-8393-e6670cc05475",
   "metadata": {},
   "outputs": [
    {
     "data": {
      "text/plain": [
       "list"
      ]
     },
     "execution_count": 12,
     "metadata": {},
     "output_type": "execute_result"
    }
   ],
   "source": [
    "x = [1, 3, True, True, 'Hello', [3,5,7], False]\n",
    "type(x)"
   ]
  },
  {
   "cell_type": "code",
   "execution_count": 20,
   "id": "8e24e2a1-4c15-43cc-b5ac-100aaddbf620",
   "metadata": {},
   "outputs": [
    {
     "data": {
      "text/plain": [
       "[1, 2, 3, 4]"
      ]
     },
     "execution_count": 20,
     "metadata": {},
     "output_type": "execute_result"
    }
   ],
   "source": [
    "x = list(range(1,5))\n",
    "x"
   ]
  },
  {
   "cell_type": "code",
   "execution_count": 24,
   "id": "cb88c7f0-66d0-4973-be65-a9ed118a9d2b",
   "metadata": {},
   "outputs": [
    {
     "data": {
      "text/plain": [
       "[1, 3, 5, 7, 9]"
      ]
     },
     "execution_count": 24,
     "metadata": {},
     "output_type": "execute_result"
    }
   ],
   "source": [
    "list(range(1,10,2))\n"
   ]
  },
  {
   "cell_type": "code",
   "execution_count": 26,
   "id": "6b8e2517-5b69-493f-a248-810a19024db6",
   "metadata": {},
   "outputs": [
    {
     "data": {
      "text/plain": [
       "[1, 2, 3, 4]"
      ]
     },
     "execution_count": 26,
     "metadata": {},
     "output_type": "execute_result"
    }
   ],
   "source": [
    "list(range(1,5))"
   ]
  },
  {
   "cell_type": "code",
   "execution_count": 28,
   "id": "0f16f972-61eb-404c-88c5-0de02f51c731",
   "metadata": {},
   "outputs": [
    {
     "data": {
      "text/plain": [
       "2"
      ]
     },
     "execution_count": 28,
     "metadata": {},
     "output_type": "execute_result"
    }
   ],
   "source": [
    " x = [1, 2, ['Life', 'is']]\n",
    "x[1]"
   ]
  },
  {
   "cell_type": "code",
   "execution_count": 30,
   "id": "6f143d97-b06e-42f3-809f-a171cdefcd5f",
   "metadata": {},
   "outputs": [
    {
     "data": {
      "text/plain": [
       "1"
      ]
     },
     "execution_count": 30,
     "metadata": {},
     "output_type": "execute_result"
    }
   ],
   "source": [
    "x[0]"
   ]
  },
  {
   "cell_type": "code",
   "execution_count": 36,
   "id": "a52b8361-0562-4a65-b821-5c7b24135d14",
   "metadata": {},
   "outputs": [
    {
     "data": {
      "text/plain": [
       "'Life'"
      ]
     },
     "execution_count": 36,
     "metadata": {},
     "output_type": "execute_result"
    }
   ],
   "source": [
    "x[2][0]"
   ]
  },
  {
   "cell_type": "code",
   "execution_count": 38,
   "id": "6bfab2bb-2974-4a4e-aad3-91f05c47fc7f",
   "metadata": {},
   "outputs": [
    {
     "data": {
      "text/plain": [
       "[3, ['a', 'b', 'c'], 4]"
      ]
     },
     "execution_count": 38,
     "metadata": {},
     "output_type": "execute_result"
    }
   ],
   "source": [
    "x = [1, 2, 3, ['a', 'b', 'c'], 4, 5]\n",
    "x[2:5]"
   ]
  },
  {
   "cell_type": "code",
   "execution_count": 40,
   "id": "d79d9d20-4371-4f91-898b-5ba08df91c73",
   "metadata": {},
   "outputs": [
    {
     "data": {
      "text/plain": [
       "['a', 'b']"
      ]
     },
     "execution_count": 40,
     "metadata": {},
     "output_type": "execute_result"
    }
   ],
   "source": [
    "x[3][:2]"
   ]
  },
  {
   "cell_type": "code",
   "execution_count": 42,
   "id": "03de9c78-c7c2-4688-af41-93f5beaad4f1",
   "metadata": {},
   "outputs": [
    {
     "data": {
      "text/plain": [
       "[1, 2, 3, 4, 5, 6]"
      ]
     },
     "execution_count": 42,
     "metadata": {},
     "output_type": "execute_result"
    }
   ],
   "source": [
    "a = [1, 2, 3]\n",
    "b = [4, 5, 6]\n",
    "a + b"
   ]
  },
  {
   "cell_type": "code",
   "execution_count": 54,
   "id": "689c044e-ae09-45ee-8671-faba6aa751be",
   "metadata": {},
   "outputs": [
    {
     "data": {
      "text/plain": [
       "[1, 2, 3, 1, 2, 3, 1, 2, 3]"
      ]
     },
     "execution_count": 54,
     "metadata": {},
     "output_type": "execute_result"
    }
   ],
   "source": [
    "x = [1, 2, 3]\n",
    "x*3"
   ]
  },
  {
   "cell_type": "code",
   "execution_count": 56,
   "id": "4f38e60f-087a-4d20-bd16-356bb228ae6e",
   "metadata": {},
   "outputs": [
    {
     "data": {
      "text/plain": [
       "[1, 3, 5, 7, 9, 11]"
      ]
     },
     "execution_count": 56,
     "metadata": {},
     "output_type": "execute_result"
    }
   ],
   "source": [
    "x[1:3] = [3, 5, 7, 9, 11]\n",
    "x"
   ]
  },
  {
   "cell_type": "code",
   "execution_count": 58,
   "id": "3b564a43-6f2d-41b3-910a-33b761520946",
   "metadata": {},
   "outputs": [
    {
     "data": {
      "text/plain": [
       "[1, -1, -2, -3, 3]"
      ]
     },
     "execution_count": 58,
     "metadata": {},
     "output_type": "execute_result"
    }
   ],
   "source": [
    "x = [1, 2, 3]\n",
    "x[1:2] = [-1, -2, -3]\n",
    "x"
   ]
  },
  {
   "cell_type": "code",
   "execution_count": 60,
   "id": "94aa3fa9-eb41-418f-9c06-b83e3ad71bc0",
   "metadata": {},
   "outputs": [
    {
     "data": {
      "text/plain": [
       "[1, [-1, -2, -3], 3]"
      ]
     },
     "execution_count": 60,
     "metadata": {},
     "output_type": "execute_result"
    }
   ],
   "source": [
    "x = [1, 2, 3]\n",
    "x[1] = [-1, -2, -3]\n",
    "x"
   ]
  },
  {
   "cell_type": "code",
   "execution_count": 64,
   "id": "cbcf2a50-6819-4884-8b80-cea9648688aa",
   "metadata": {},
   "outputs": [
    {
     "data": {
      "text/plain": [
       "[1, 5]"
      ]
     },
     "execution_count": 64,
     "metadata": {},
     "output_type": "execute_result"
    }
   ],
   "source": [
    "x = [1, 2, 3, 4, 5]\n",
    "del x[2]\n",
    "x[1:3]=[]\n",
    "x"
   ]
  },
  {
   "cell_type": "code",
   "execution_count": 66,
   "id": "ed812fe7-2078-45f0-9f93-543d949d6fc2",
   "metadata": {},
   "outputs": [
    {
     "data": {
      "text/plain": [
       "5"
      ]
     },
     "execution_count": 66,
     "metadata": {},
     "output_type": "execute_result"
    }
   ],
   "source": [
    " x = [2,4,6,8,10]\n",
    "len(x)"
   ]
  },
  {
   "cell_type": "code",
   "execution_count": 74,
   "id": "c8001a7a-fa2a-4338-be38-aade07854e11",
   "metadata": {},
   "outputs": [
    {
     "data": {
      "text/plain": [
       "[1, 2, 3, 4, [5, 6]]"
      ]
     },
     "execution_count": 74,
     "metadata": {},
     "output_type": "execute_result"
    }
   ],
   "source": [
    "x = [1, 2, 3]\n",
    "x.append(4)\n",
    "x.append([5,6])\n",
    "x"
   ]
  },
  {
   "cell_type": "code",
   "execution_count": 70,
   "id": "f504fc51-7339-4b02-b4d8-2d51dfac7944",
   "metadata": {},
   "outputs": [
    {
     "data": {
      "text/plain": [
       "[5, 4, 3, 2, 1]"
      ]
     },
     "execution_count": 70,
     "metadata": {},
     "output_type": "execute_result"
    }
   ],
   "source": [
    "x = [1, 2, 3, 4, 5]\n",
    "x.reverse()\n",
    "x"
   ]
  },
  {
   "cell_type": "code",
   "execution_count": 76,
   "id": "f5503282-2109-4575-a803-43dbed085562",
   "metadata": {},
   "outputs": [
    {
     "data": {
      "text/plain": [
       "[1, 2, 3, 4, 5]"
      ]
     },
     "execution_count": 76,
     "metadata": {},
     "output_type": "execute_result"
    }
   ],
   "source": [
    "x = [3, 1, 5, 2, 4]\n",
    "sorted(x)\n"
   ]
  },
  {
   "cell_type": "code",
   "execution_count": 82,
   "id": "39900760-93a7-4776-bde9-c8d8fe3b0f48",
   "metadata": {},
   "outputs": [
    {
     "data": {
      "text/plain": [
       "tuple"
      ]
     },
     "execution_count": 82,
     "metadata": {},
     "output_type": "execute_result"
    }
   ],
   "source": [
    "x = (1, 3, True, False, 'Hello', [3,5,7])\n",
    "type(x)"
   ]
  },
  {
   "cell_type": "code",
   "execution_count": 84,
   "id": "9b041d63-916b-4063-a4aa-2f80ff3508ef",
   "metadata": {},
   "outputs": [
    {
     "data": {
      "text/plain": [
       "(1, 2, 3, 4)"
      ]
     },
     "execution_count": 84,
     "metadata": {},
     "output_type": "execute_result"
    }
   ],
   "source": [
    "x = tuple(range(1,5))\n",
    "x\n"
   ]
  },
  {
   "cell_type": "code",
   "execution_count": 88,
   "id": "8a921559-fbf7-44f3-81be-a3642ad3dca5",
   "metadata": {},
   "outputs": [
    {
     "data": {
      "text/plain": [
       "['a', 'b']"
      ]
     },
     "execution_count": 88,
     "metadata": {},
     "output_type": "execute_result"
    }
   ],
   "source": [
    "x = (1, 2, 3, ['a', 'b', 'c'], 4, 5)\n",
    "x[3][:2]"
   ]
  },
  {
   "cell_type": "code",
   "execution_count": 90,
   "id": "a6aa8d69-58c0-4bf7-b8a6-db97161e2966",
   "metadata": {},
   "outputs": [],
   "source": [
    "d = {'x':[1,2,3], 'y':[4,5,6]}"
   ]
  },
  {
   "cell_type": "code",
   "execution_count": 92,
   "id": "71cd16bc-fdc7-4ff8-a006-4ba3f03edc00",
   "metadata": {},
   "outputs": [
    {
     "data": {
      "text/plain": [
       "{'x': [1, 2, 3], 'y': [4, 5, 6]}"
      ]
     },
     "execution_count": 92,
     "metadata": {},
     "output_type": "execute_result"
    }
   ],
   "source": [
    "d"
   ]
  },
  {
   "cell_type": "code",
   "execution_count": 94,
   "id": "685431ed-092b-4ec2-8342-5464d3145cd7",
   "metadata": {},
   "outputs": [
    {
     "data": {
      "text/plain": [
       "{'name': 'John', 'gender': 'Male', 'age': 23}"
      ]
     },
     "execution_count": 94,
     "metadata": {},
     "output_type": "execute_result"
    }
   ],
   "source": [
    " d = {}\n",
    "d['name'] = 'John'\n",
    "d['gender'] = 'Male'\n",
    "d['age'] = 23\n",
    "d"
   ]
  },
  {
   "cell_type": "code",
   "execution_count": 96,
   "id": "70f58531-0c4e-41a5-8e97-35c1ec74d279",
   "metadata": {},
   "outputs": [
    {
     "data": {
      "text/plain": [
       "'John'"
      ]
     },
     "execution_count": 96,
     "metadata": {},
     "output_type": "execute_result"
    }
   ],
   "source": [
    "d['name']"
   ]
  },
  {
   "cell_type": "code",
   "execution_count": 102,
   "id": "4cf27510-6d35-4603-bcb4-6237ce7691f1",
   "metadata": {},
   "outputs": [
    {
     "data": {
      "text/plain": [
       "0"
      ]
     },
     "execution_count": 102,
     "metadata": {},
     "output_type": "execute_result"
    }
   ],
   "source": [
    " d = {'name': 'John', 'gender': 'Male', 'age': 23}\n",
    "d.get('wage', 0)"
   ]
  },
  {
   "cell_type": "code",
   "execution_count": 104,
   "id": "4485fc9a-10df-473b-a532-1cc002e23926",
   "metadata": {},
   "outputs": [
    {
     "data": {
      "text/plain": [
       "{'name': 'John', 'gender': 'Male', 'age': 23}"
      ]
     },
     "execution_count": 104,
     "metadata": {},
     "output_type": "execute_result"
    }
   ],
   "source": [
    "d"
   ]
  },
  {
   "cell_type": "code",
   "execution_count": 116,
   "id": "d3fcbd2e-9e39-4636-90a4-f6ba6fbeebfc",
   "metadata": {},
   "outputs": [
    {
     "data": {
      "text/plain": [
       "{1, 2, 3, 4, 5, 6, 7, 8}"
      ]
     },
     "execution_count": 116,
     "metadata": {},
     "output_type": "execute_result"
    }
   ],
   "source": [
    "s1 = set([1, 2, 3, 4, 5])\n",
    "s2 = set([4, 5, 6, 7, 8])\n",
    "s1 & s2\n",
    "s1.intersection(s2)"
   ]
  },
  {
   "cell_type": "code",
   "execution_count": 108,
   "id": "3d9092e9-3efd-4ecb-9f15-428de665d484",
   "metadata": {},
   "outputs": [
    {
     "data": {
      "text/plain": [
       "{1, 2, 3, 4, 5, 6, 7, 8}"
      ]
     },
     "execution_count": 108,
     "metadata": {},
     "output_type": "execute_result"
    }
   ],
   "source": [
    "s1.union(s2)"
   ]
  },
  {
   "cell_type": "code",
   "execution_count": 110,
   "id": "a08d07c6-9137-4794-9c02-b98c21082837",
   "metadata": {},
   "outputs": [
    {
     "data": {
      "text/plain": [
       "{1, 2, 3, 4, 5, 6}"
      ]
     },
     "execution_count": 110,
     "metadata": {},
     "output_type": "execute_result"
    }
   ],
   "source": [
    "a = set([1, 2, 3, 4, 5])\n",
    "a.add(6)\n",
    "a"
   ]
  },
  {
   "cell_type": "code",
   "execution_count": 120,
   "id": "c670fcf1-e79d-48fd-964d-669610f772ef",
   "metadata": {},
   "outputs": [
    {
     "name": "stdin",
     "output_type": "stream",
     "text": [
      "How old are you?  20\n"
     ]
    },
    {
     "name": "stdout",
     "output_type": "stream",
     "text": [
      "You are all grown up!\n"
     ]
    }
   ],
   "source": [
    "x = input(\"How old are you? \")\n",
    "x = int(x)\n",
    "if x < 8 :\n",
    "    print( str(x) + \" years old... You are a bit too young.\")\n",
    "elif x >=8 and x<19:\n",
    "    print( str(x) + \" years old... You must be a student.\")\n",
    "else:\n",
    "    print( \"You are all grown up!\")\n"
   ]
  },
  {
   "cell_type": "code",
   "execution_count": 122,
   "id": "0ca3e7ca-efe1-45d6-b6bc-121c7c5f06af",
   "metadata": {},
   "outputs": [
    {
     "name": "stdout",
     "output_type": "stream",
     "text": [
      "9 * 1 =  9 \n",
      "9 * 2 = 18 \n",
      "9 * 3 = 27 \n",
      "9 * 4 = 36 \n",
      "9 * 5 = 45 \n",
      "9 * 6 = 54 \n",
      "9 * 7 = 63 \n",
      "9 * 8 = 72 \n",
      "9 * 9 = 81 \n"
     ]
    }
   ],
   "source": [
    "i = 1\n",
    "while i < 9:\n",
    "    i += 1\n",
    "for j in range(1,10):\n",
    "    print( \"%1d * %1d = %2d \" % ( i, j, i*j))\n",
    "    j += 1\n"
   ]
  },
  {
   "cell_type": "code",
   "execution_count": 124,
   "id": "d1112e4e-0380-40ac-96ef-25543ca4a7d6",
   "metadata": {},
   "outputs": [
    {
     "data": {
      "text/plain": [
       "12"
      ]
     },
     "execution_count": 124,
     "metadata": {},
     "output_type": "execute_result"
    }
   ],
   "source": [
    "def prod(a,b):\n",
    "    x = a*b\n",
    "    return x\n",
    "prod(3,4)\n"
   ]
  },
  {
   "cell_type": "code",
   "execution_count": 136,
   "id": "ee691a04-7744-4c9b-bc0f-dae3d8704673",
   "metadata": {},
   "outputs": [
    {
     "data": {
      "text/plain": [
       "55"
      ]
     },
     "execution_count": 136,
     "metadata": {},
     "output_type": "execute_result"
    }
   ],
   "source": [
    "sum_total = 0\n",
    "def increase():\n",
    "    global sum_total \n",
    "    for i in range(11):\n",
    "        sum_total += i\n",
    "increase()\n",
    "sum_total"
   ]
  },
  {
   "cell_type": "code",
   "execution_count": 140,
   "id": "1ebc4a51-e29d-41fc-9e51-4effc7ee6776",
   "metadata": {},
   "outputs": [
    {
     "data": {
      "text/plain": [
       "60"
      ]
     },
     "execution_count": 140,
     "metadata": {},
     "output_type": "execute_result"
    }
   ],
   "source": [
    "def sum_up(*vals):\n",
    "    total = 0\n",
    "    for x in vals:\n",
    "        total += x\n",
    "    return total\n",
    "sum_up(10,20,30)"
   ]
  },
  {
   "cell_type": "code",
   "execution_count": 142,
   "id": "e347849d-6e5e-41e0-9b9f-4c87a1b60608",
   "metadata": {},
   "outputs": [
    {
     "data": {
      "text/plain": [
       "tuple"
      ]
     },
     "execution_count": 142,
     "metadata": {},
     "output_type": "execute_result"
    }
   ],
   "source": [
    "def ArithmeticOprs(a,b):\n",
    "    return a + b, a-b, a * b, a/b\n",
    "type(ArithmeticOprs(4,2))"
   ]
  },
  {
   "cell_type": "code",
   "execution_count": 144,
   "id": "401c2b4d-913c-4e9f-8bca-9b1f8cddb697",
   "metadata": {},
   "outputs": [
    {
     "data": {
      "text/plain": [
       "(6, 2, 8, 2.0)"
      ]
     },
     "execution_count": 144,
     "metadata": {},
     "output_type": "execute_result"
    }
   ],
   "source": [
    "ArithmeticOprs(4,2)"
   ]
  },
  {
   "cell_type": "code",
   "execution_count": 146,
   "id": "6e1ffbc8-f024-4591-bc2d-643fac8ba5a0",
   "metadata": {},
   "outputs": [
    {
     "data": {
      "text/plain": [
       "(3, 1, 2, 2.0)"
      ]
     },
     "execution_count": 146,
     "metadata": {},
     "output_type": "execute_result"
    }
   ],
   "source": [
    "def ArithmeticOprs(a=2,b=1):\n",
    "    return a + b, a - b, a * b, a/b\n",
    "ArithmeticOprs()"
   ]
  },
  {
   "cell_type": "code",
   "execution_count": 148,
   "id": "95a9983a-8593-4bed-956c-21cc2c5886ba",
   "metadata": {},
   "outputs": [
    {
     "data": {
      "text/plain": [
       "(4, 2, 3, 3.0)"
      ]
     },
     "execution_count": 148,
     "metadata": {},
     "output_type": "execute_result"
    }
   ],
   "source": [
    " ArithmeticOprs(3)\n"
   ]
  },
  {
   "cell_type": "code",
   "execution_count": 150,
   "id": "e92abff4-9b76-4adb-ad60-5c79a516191a",
   "metadata": {},
   "outputs": [
    {
     "data": {
      "text/plain": [
       "(5, -1, 6, 0.6666666666666666)"
      ]
     },
     "execution_count": 150,
     "metadata": {},
     "output_type": "execute_result"
    }
   ],
   "source": [
    " ArithmeticOprs(b=3)\n"
   ]
  },
  {
   "cell_type": "code",
   "execution_count": 152,
   "id": "68c7d02a-c896-4b9c-b3b2-82a6d43c437a",
   "metadata": {},
   "outputs": [
    {
     "data": {
      "text/plain": [
       "3.0"
      ]
     },
     "execution_count": 152,
     "metadata": {},
     "output_type": "execute_result"
    }
   ],
   "source": [
    "result = 333\n",
    "def average(*a):\n",
    "    result = 0\n",
    "    for x in a:\n",
    "        result += x\n",
    "    result /= len(a)\n",
    "    return result\n",
    "average(1,2,3,4,5)\n"
   ]
  },
  {
   "cell_type": "code",
   "execution_count": 154,
   "id": "be7fe8b2-aed9-422c-adfa-731f8f4ec000",
   "metadata": {},
   "outputs": [
    {
     "data": {
      "text/plain": [
       "333"
      ]
     },
     "execution_count": 154,
     "metadata": {},
     "output_type": "execute_result"
    }
   ],
   "source": [
    "result"
   ]
  },
  {
   "cell_type": "code",
   "execution_count": 158,
   "id": "cd93f5e0-9a81-42e8-b532-45371ade65ae",
   "metadata": {},
   "outputs": [
    {
     "data": {
      "text/plain": [
       "function"
      ]
     },
     "execution_count": 158,
     "metadata": {},
     "output_type": "execute_result"
    }
   ],
   "source": [
    "def makeMyFunc(a):\n",
    "    return lambda x: a*x\n",
    "myFunc = makeMyFunc(3)\n",
    "type(myFunc)"
   ]
  },
  {
   "cell_type": "code",
   "execution_count": 160,
   "id": "54efceca-4228-4d2b-9d7a-832f918600e1",
   "metadata": {},
   "outputs": [
    {
     "data": {
      "text/plain": [
       "12"
      ]
     },
     "execution_count": 160,
     "metadata": {},
     "output_type": "execute_result"
    }
   ],
   "source": [
    " myFunc(4)\n"
   ]
  },
  {
   "cell_type": "code",
   "execution_count": 162,
   "id": "edc94811-3ed1-4802-b479-d78808f67a4a",
   "metadata": {},
   "outputs": [
    {
     "data": {
      "text/plain": [
       "[2, 4, 6, 8, 10, 12, 14, 16, 18, 20]"
      ]
     },
     "execution_count": 162,
     "metadata": {},
     "output_type": "execute_result"
    }
   ],
   "source": [
    " a = [1, 2, 3, 4, 5, 6, 7, 8, 9, 10]\n",
    "list(map(lambda x: x * 2, a))"
   ]
  },
  {
   "cell_type": "code",
   "execution_count": 164,
   "id": "c37262ca-1892-4fdd-8f92-967c2b5adda9",
   "metadata": {},
   "outputs": [
    {
     "data": {
      "text/plain": [
       "[3, 6, 9]"
      ]
     },
     "execution_count": 164,
     "metadata": {},
     "output_type": "execute_result"
    }
   ],
   "source": [
    "list(filter(lambda x: x % 3 ==0, a))"
   ]
  },
  {
   "cell_type": "code",
   "execution_count": null,
   "id": "144a1074-bcca-440e-ace9-b2215eee81f2",
   "metadata": {},
   "outputs": [],
   "source": []
  }
 ],
 "metadata": {
  "kernelspec": {
   "display_name": "Python 3 (ipykernel)",
   "language": "python",
   "name": "python3"
  },
  "language_info": {
   "codemirror_mode": {
    "name": "ipython",
    "version": 3
   },
   "file_extension": ".py",
   "mimetype": "text/x-python",
   "name": "python",
   "nbconvert_exporter": "python",
   "pygments_lexer": "ipython3",
   "version": "3.12.4"
  }
 },
 "nbformat": 4,
 "nbformat_minor": 5
}
