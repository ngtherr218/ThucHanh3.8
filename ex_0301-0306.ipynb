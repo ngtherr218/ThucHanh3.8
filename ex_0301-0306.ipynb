{
 "cells": [
  {
   "cell_type": "markdown",
   "id": "8c3fd9b9-01b0-4f0c-a9bb-a8a71b38b5db",
   "metadata": {},
   "source": [
    "# EX_0301"
   ]
  },
  {
   "cell_type": "code",
   "execution_count": 1,
   "id": "de25de17-1fa8-4ae6-b4e4-8c604da036fc",
   "metadata": {},
   "outputs": [],
   "source": [
    "import scipy.stats as st\n",
    "import matplotlib.pyplot as plt\n",
    "import numpy as np\n",
    "%matplotlib inline"
   ]
  },
  {
   "cell_type": "code",
   "execution_count": 3,
   "id": "a2748ab9-ec9d-4aa3-842b-6c4c2780c6d2",
   "metadata": {},
   "outputs": [],
   "source": [
    "n=10\n",
    "p=0.5"
   ]
  },
  {
   "cell_type": "code",
   "execution_count": 5,
   "id": "5c8b514a-21e2-486e-a917-4dd9fe0edbac",
   "metadata": {},
   "outputs": [
    {
     "data": {
      "text/plain": [
       "4.0"
      ]
     },
     "execution_count": 5,
     "metadata": {},
     "output_type": "execute_result"
    }
   ],
   "source": [
    "st.binom.ppf(0.3, n, p)\n"
   ]
  },
  {
   "cell_type": "code",
   "execution_count": 7,
   "id": "06cbb9b1-6fb4-4328-9e6c-e058825eed51",
   "metadata": {},
   "outputs": [
    {
     "data": {
      "text/plain": [
       "0.623046875"
      ]
     },
     "execution_count": 7,
     "metadata": {},
     "output_type": "execute_result"
    }
   ],
   "source": [
    "st.binom.cdf(5,n,p)"
   ]
  },
  {
   "cell_type": "code",
   "execution_count": 9,
   "id": "0d2187cc-b8b9-464d-a1ca-fe8671c9c59d",
   "metadata": {},
   "outputs": [
    {
     "data": {
      "text/plain": [
       "0.890625"
      ]
     },
     "execution_count": 9,
     "metadata": {},
     "output_type": "execute_result"
    }
   ],
   "source": [
    "st.binom.cdf(7,n,p)-st.binom.cdf(2,n,p)"
   ]
  },
  {
   "cell_type": "code",
   "execution_count": 11,
   "id": "17ec0307-29b0-4e01-a0ce-903cfa99d604",
   "metadata": {},
   "outputs": [
    {
     "data": {
      "image/png": "[encoded data removed]",
      "text/plain": [
       "<Figure size 640x480 with 1 Axes>"
      ]
     },
     "metadata": {},
     "output_type": "display_data"
    }
   ],
   "source": [
    "x=np.arange(0,11)\n",
    "plt.scatter(x, st.binom.pmf(x,n,p),color='red')\n",
    "plt.show()"
   ]
  },
  {
   "cell_type": "code",
   "execution_count": 13,
   "id": "095787bf-bb91-4e9b-b06c-2a9017d6595c",
   "metadata": {},
   "outputs": [],
   "source": [
    "lamb = 2\n"
   ]
  },
  {
   "cell_type": "code",
   "execution_count": 15,
   "id": "888fbef0-58c2-4b98-afad-f2c4fc06aea8",
   "metadata": {},
   "outputs": [
    {
     "data": {
      "text/plain": [
       "0.2706705664732254"
      ]
     },
     "execution_count": 15,
     "metadata": {},
     "output_type": "execute_result"
    }
   ],
   "source": [
    "st.poisson.pmf(2,lamb)"
   ]
  },
  {
   "cell_type": "code",
   "execution_count": 17,
   "id": "c327390f-9a73-45b9-bfa7-73520a2e29c7",
   "metadata": {},
   "outputs": [
    {
     "data": {
      "text/plain": [
       "2.0"
      ]
     },
     "execution_count": 17,
     "metadata": {},
     "output_type": "execute_result"
    }
   ],
   "source": [
    "st.poisson.ppf(0.5,lamb)"
   ]
  },
  {
   "cell_type": "code",
   "execution_count": 19,
   "id": "372ee923-d738-4984-aa64-08cab81eb0cb",
   "metadata": {},
   "outputs": [
    {
     "data": {
      "text/plain": [
       "0.9834363915193856"
      ]
     },
     "execution_count": 19,
     "metadata": {},
     "output_type": "execute_result"
    }
   ],
   "source": [
    "st.poisson.cdf(5,lamb)"
   ]
  },
  {
   "cell_type": "code",
   "execution_count": 21,
   "id": "bfb7105b-413d-4d87-a952-4f246fc7d429",
   "metadata": {},
   "outputs": [
    {
     "data": {
      "text/plain": [
       "0.3222268648490779"
      ]
     },
     "execution_count": 21,
     "metadata": {},
     "output_type": "execute_result"
    }
   ],
   "source": [
    "st.poisson.cdf(7,lamb)-st.poisson.cdf(2,lamb)"
   ]
  },
  {
   "cell_type": "code",
   "execution_count": 23,
   "id": "64c8ce0c-6e9b-4fa1-aa00-b36b306d8926",
   "metadata": {},
   "outputs": [
    {
     "data": {
      "image/png": "[encoded data removed]",
      "text/plain": [
       "<Figure size 640x480 with 1 Axes>"
      ]
     },
     "metadata": {},
     "output_type": "display_data"
    }
   ],
   "source": [
    "x=np.arange(0,11)\n",
    "plt.scatter(x, st.poisson.pmf(x,lamb),color='green')\n",
    "plt.show()"
   ]
  },
  {
   "cell_type": "markdown",
   "id": "135cbf1d-34ac-46be-84ee-422481036af3",
   "metadata": {},
   "source": [
    "# EX_0302"
   ]
  },
  {
   "cell_type": "code",
   "execution_count": 35,
   "id": "0fe2da60-854e-4cdf-a832-289b9340d581",
   "metadata": {},
   "outputs": [],
   "source": [
    "import scipy.stats as st\n",
    "import matplotlib.pyplot as plt\n",
    "import numpy as np\n",
    "%matplotlib inline"
   ]
  },
  {
   "cell_type": "code",
   "execution_count": 37,
   "id": "f31084f5-47e9-4fb7-912f-d10019a4e877",
   "metadata": {},
   "outputs": [],
   "source": [
    "a = 2000\n",
    "b = 5000\n",
    "base = b - a"
   ]
  },
  {
   "cell_type": "code",
   "execution_count": 39,
   "id": "0bed0f77-df78-4af0-91fa-9535fcae1428",
   "metadata": {},
   "outputs": [
    {
     "data": {
      "text/plain": [
       "0.0003333333333333333"
      ]
     },
     "execution_count": 39,
     "metadata": {},
     "output_type": "execute_result"
    }
   ],
   "source": [
    "st.uniform.pdf(4500,a,base)"
   ]
  },
  {
   "cell_type": "code",
   "execution_count": 41,
   "id": "529abcfc-fa98-4aeb-88c3-a8a71aa62598",
   "metadata": {},
   "outputs": [
    {
     "data": {
      "text/plain": [
       "3500.0"
      ]
     },
     "execution_count": 41,
     "metadata": {},
     "output_type": "execute_result"
    }
   ],
   "source": [
    "st.uniform.ppf(0.5,a,base)"
   ]
  },
  {
   "cell_type": "code",
   "execution_count": 43,
   "id": "d86ec6b6-1c48-4b7b-af47-f1f03a49f093",
   "metadata": {},
   "outputs": [
    {
     "data": {
      "text/plain": [
       "2030.0"
      ]
     },
     "execution_count": 43,
     "metadata": {},
     "output_type": "execute_result"
    }
   ],
   "source": [
    "st.uniform.ppf(0.01,a,base)"
   ]
  },
  {
   "cell_type": "code",
   "execution_count": 45,
   "id": "af18aeb5-0f7f-4315-a696-1153d180327b",
   "metadata": {},
   "outputs": [
    {
     "data": {
      "text/plain": [
       "4970.0"
      ]
     },
     "execution_count": 45,
     "metadata": {},
     "output_type": "execute_result"
    }
   ],
   "source": [
    "st.uniform.ppf(0.99,a,base)"
   ]
  },
  {
   "cell_type": "code",
   "execution_count": 49,
   "id": "a48a2c3a-1cf4-401c-9136-ae2906640c3d",
   "metadata": {},
   "outputs": [
    {
     "data": {
      "text/plain": [
       "0.5"
      ]
     },
     "execution_count": 49,
     "metadata": {},
     "output_type": "execute_result"
    }
   ],
   "source": [
    "st.uniform.cdf(3500,a,base)"
   ]
  },
  {
   "cell_type": "code",
   "execution_count": 51,
   "id": "cd50c0d3-bb10-4b74-acfa-e67d37910864",
   "metadata": {},
   "outputs": [
    {
     "data": {
      "text/plain": [
       "0.16666666666666666"
      ]
     },
     "execution_count": 51,
     "metadata": {},
     "output_type": "execute_result"
    }
   ],
   "source": [
    "st.uniform.cdf(3000,a,base)-st.uniform.cdf(2500,a,base)\n"
   ]
  },
  {
   "cell_type": "code",
   "execution_count": 53,
   "id": "8f620e69-aeab-47d4-856b-a3becc535c09",
   "metadata": {},
   "outputs": [
    {
     "data": {
      "image/png": "[encoded data removed]",
      "text/plain": [
       "<Figure size 640x480 with 1 Axes>"
      ]
     },
     "metadata": {},
     "output_type": "display_data"
    }
   ],
   "source": [
    "x=np.linspace(1000,6000,1000)\n",
    "plt.plot(x, st.uniform.pdf(x,a,base),color='red')\n",
    "plt.show()"
   ]
  },
  {
   "cell_type": "code",
   "execution_count": 55,
   "id": "8d1ef6e5-b757-4b9a-a519-1c3f84f81880",
   "metadata": {},
   "outputs": [],
   "source": [
    "mu = 5\n",
    "sigma = 2"
   ]
  },
  {
   "cell_type": "code",
   "execution_count": 58,
   "id": "a0292158-7193-4790-bcd9-58a54408b80c",
   "metadata": {},
   "outputs": [
    {
     "data": {
      "text/plain": [
       "0.00876415024678427"
      ]
     },
     "execution_count": 58,
     "metadata": {},
     "output_type": "execute_result"
    }
   ],
   "source": [
    "st.norm.pdf(0, loc=mu, scale=sigma)"
   ]
  },
  {
   "cell_type": "code",
   "execution_count": 60,
   "id": "64651e8d-2e01-4f10-873f-106c64fc9371",
   "metadata": {},
   "outputs": [
    {
     "data": {
      "text/plain": [
       "5.0"
      ]
     },
     "execution_count": 60,
     "metadata": {},
     "output_type": "execute_result"
    }
   ],
   "source": [
    "st.norm.ppf(0.5, loc=mu, scale=sigma)"
   ]
  },
  {
   "cell_type": "code",
   "execution_count": 62,
   "id": "bc70da70-10fa-4a81-b205-7af0d9c8c08d",
   "metadata": {},
   "outputs": [
    {
     "data": {
      "text/plain": [
       "0.3473042519183185"
      ]
     },
     "execution_count": 62,
     "metadata": {},
     "output_type": "execute_result"
    }
   ],
   "source": [
    "st.norm.ppf(0.01, loc=mu, scale=sigma)"
   ]
  },
  {
   "cell_type": "code",
   "execution_count": 64,
   "id": "a4340bb5-c682-4168-80ae-e6945e1ecd45",
   "metadata": {},
   "outputs": [
    {
     "data": {
      "text/plain": [
       "9.652695748081682"
      ]
     },
     "execution_count": 64,
     "metadata": {},
     "output_type": "execute_result"
    }
   ],
   "source": [
    "st.norm.ppf(0.99, loc=mu, scale=sigma)"
   ]
  },
  {
   "cell_type": "code",
   "execution_count": 66,
   "id": "e1c2bce0-0654-438c-9b45-bb654d8c9fb2",
   "metadata": {},
   "outputs": [
    {
     "data": {
      "text/plain": [
       "0.5"
      ]
     },
     "execution_count": 66,
     "metadata": {},
     "output_type": "execute_result"
    }
   ],
   "source": [
    "st.norm.cdf(5,loc = mu, scale=sigma)"
   ]
  },
  {
   "cell_type": "code",
   "execution_count": 68,
   "id": "1ea5dec9-d8e1-4d83-9903-d2fd621f6ba9",
   "metadata": {},
   "outputs": [
    {
     "data": {
      "text/plain": [
       "0.6826894921370859"
      ]
     },
     "execution_count": 68,
     "metadata": {},
     "output_type": "execute_result"
    }
   ],
   "source": [
    "st.norm.cdf(7,loc = mu, scale=sigma) - st.norm.cdf(3,loc = mu, scale=sigma)"
   ]
  },
  {
   "cell_type": "code",
   "execution_count": 70,
   "id": "4351880f-9d88-4c48-9251-0c278a26966c",
   "metadata": {},
   "outputs": [
    {
     "data": {
      "text/plain": [
       "0.9544997361036416"
      ]
     },
     "execution_count": 70,
     "metadata": {},
     "output_type": "execute_result"
    }
   ],
   "source": [
    "st.norm.cdf(9,loc = mu, scale=sigma) - st.norm.cdf(1,loc = mu, scale=sigma)"
   ]
  },
  {
   "cell_type": "code",
   "execution_count": 72,
   "id": "d9483544-434a-4fb5-8473-6af1709f22a5",
   "metadata": {},
   "outputs": [
    {
     "data": {
      "text/plain": [
       "0.9973002039367398"
      ]
     },
     "execution_count": 72,
     "metadata": {},
     "output_type": "execute_result"
    }
   ],
   "source": [
    "st.norm.cdf(11,loc = mu, scale=sigma) - st.norm.cdf(-1,loc = mu, scale=sigma)"
   ]
  },
  {
   "cell_type": "code",
   "execution_count": 74,
   "id": "596b937f-79ce-4531-a8be-f4ec1b0953cd",
   "metadata": {},
   "outputs": [
    {
     "data": {
      "image/png": "[encoded data removed]",
      "text/plain": [
       "<Figure size 640x480 with 1 Axes>"
      ]
     },
     "metadata": {},
     "output_type": "display_data"
    }
   ],
   "source": [
    "x=np.linspace(-10,+10,1000)\n",
    "mu=0\n",
    "sigma=2\n",
    "plt.plot(x, st.norm.pdf(x,loc=mu,scale=sigma),color='red')\n",
    "plt.show()"
   ]
  },
  {
   "cell_type": "code",
   "execution_count": 76,
   "id": "d4724cf3-7199-4436-ae97-3943cf14fe61",
   "metadata": {},
   "outputs": [
    {
     "data": {
      "image/png": "[encoded data removed]",
      "text/plain": [
       "<Figure size 640x480 with 1 Axes>"
      ]
     },
     "metadata": {},
     "output_type": "display_data"
    }
   ],
   "source": [
    "x=np.linspace(-10,+10,1000)\n",
    "sigma=2\n",
    "mu_1 = -1\n",
    "mu_2 = 0\n",
    "mu_3 = +1\n",
    "plt.plot(x, st.norm.pdf(x,loc=mu_1,scale=sigma),color='red')\n",
    "plt.plot(x, st.norm.pdf(x,loc=mu_2,scale=sigma),color='green')\n",
    "plt.plot(x, st.norm.pdf(x,loc=mu_3,scale=sigma),color='blue')\n",
    "plt.show()"
   ]
  },
  {
   "cell_type": "code",
   "execution_count": 80,
   "id": "b6f179b0-bc87-4897-bd42-3af94c86c7ec",
   "metadata": {},
   "outputs": [
    {
     "data": {
      "image/png": "[encoded data removed]",
      "text/plain": [
       "<Figure size 640x480 with 1 Axes>"
      ]
     },
     "metadata": {},
     "output_type": "display_data"
    }
   ],
   "source": [
    "x=np.linspace(-10,+10,1000)\n",
    "sigma_1 = 1\n",
    "sigma_2 = 2\n",
    "sigma_3 = 3\n",
    "mu = 0\n",
    "plt.plot(x, st.norm.pdf(x,loc=mu,scale=sigma_1),color='red')\n",
    "plt.plot(x, st.norm.pdf(x,loc=mu,scale=sigma_2),color='green')\n",
    "plt.plot(x, st.norm.pdf(x,loc=mu,scale=sigma_3),color='blue')\n",
    "plt.show()"
   ]
  },
  {
   "cell_type": "code",
   "execution_count": 82,
   "id": "9cedbba4-9786-4b21-a830-ea26e9a3dc76",
   "metadata": {},
   "outputs": [
    {
     "data": {
      "text/plain": [
       "0.0806569081730478"
      ]
     },
     "execution_count": 82,
     "metadata": {},
     "output_type": "execute_result"
    }
   ],
   "source": [
    "df = 5\n",
    "st.chi2.pdf(1,df)"
   ]
  },
  {
   "cell_type": "code",
   "execution_count": 84,
   "id": "bf456cb5-a1af-4924-a7d7-ff9a04d1a3a8",
   "metadata": {},
   "outputs": [
    {
     "data": {
      "text/plain": [
       "4.351460191095526"
      ]
     },
     "execution_count": 84,
     "metadata": {},
     "output_type": "execute_result"
    }
   ],
   "source": [
    "st.chi2.ppf(0.5,df)"
   ]
  },
  {
   "cell_type": "code",
   "execution_count": 86,
   "id": "67c175f3-37d2-47f8-8b92-b64aca9a0576",
   "metadata": {},
   "outputs": [
    {
     "data": {
      "text/plain": [
       "0.5542980767282772"
      ]
     },
     "execution_count": 86,
     "metadata": {},
     "output_type": "execute_result"
    }
   ],
   "source": [
    "st.chi2.ppf(0.01,df)"
   ]
  },
  {
   "cell_type": "code",
   "execution_count": 88,
   "id": "fea5ac72-d9cb-4b3e-b0c1-b6b3d1b2fcb3",
   "metadata": {},
   "outputs": [
    {
     "data": {
      "text/plain": [
       "15.08627246938899"
      ]
     },
     "execution_count": 88,
     "metadata": {},
     "output_type": "execute_result"
    }
   ],
   "source": [
    "st.chi2.ppf(0.99,df)"
   ]
  },
  {
   "cell_type": "code",
   "execution_count": 90,
   "id": "460cfde3-c1a7-47a6-9a2a-58bc17e69a83",
   "metadata": {},
   "outputs": [
    {
     "data": {
      "text/plain": [
       "0.10882198108584877"
      ]
     },
     "execution_count": 90,
     "metadata": {},
     "output_type": "execute_result"
    }
   ],
   "source": [
    "st.chi2.cdf(5, df=10)"
   ]
  },
  {
   "cell_type": "code",
   "execution_count": 92,
   "id": "23ba0cdd-fc4c-420b-8aeb-2b8190776700",
   "metadata": {},
   "outputs": [
    {
     "data": {
      "text/plain": [
       "0.34064494084899577"
      ]
     },
     "execution_count": 92,
     "metadata": {},
     "output_type": "execute_result"
    }
   ],
   "source": [
    "st.chi2.cdf(10, df=5) - st.chi2.cdf(5, df=5)"
   ]
  },
  {
   "cell_type": "code",
   "execution_count": 94,
   "id": "7270bc57-fd46-42f3-923d-e111e491b8a4",
   "metadata": {},
   "outputs": [
    {
     "data": {
      "image/png": "[encoded data removed]",
      "text/plain": [
       "<Figure size 640x480 with 1 Axes>"
      ]
     },
     "metadata": {},
     "output_type": "display_data"
    }
   ],
   "source": [
    "x=np.linspace(0,+15,1000)\n",
    "plt.plot(x, st.chi2.pdf(x,df=1),color='red') \n",
    "plt.plot(x, st.chi2.pdf(x,df=5),color='green') \n",
    "plt.plot(x, st.chi2.pdf(x,df=10),color='blue') \n",
    "plt.ylim([0,1])\n",
    "plt.show()\n"
   ]
  },
  {
   "cell_type": "markdown",
   "id": "bf064911-d597-4501-9253-ba07138a4f0c",
   "metadata": {},
   "source": [
    "# EX_0303"
   ]
  },
  {
   "cell_type": "code",
   "execution_count": 101,
   "id": "29981b33-505e-419a-8c94-878fe75af886",
   "metadata": {},
   "outputs": [],
   "source": [
    "import pandas as pd\n",
    "import numpy as np\n",
    "import matplotlib.pyplot as plt\n",
    "import os\n",
    "%matplotlib inline"
   ]
  },
  {
   "cell_type": "code",
   "execution_count": 107,
   "id": "1ff490d9-6df4-4332-a2b3-d11dcd171705",
   "metadata": {},
   "outputs": [
    {
     "name": "stdout",
     "output_type": "stream",
     "text": [
      "File downloaded successfully.\n"
     ]
    }
   ],
   "source": [
    "import requests\n",
    "url = 'https://raw.githubusercontent.com/stefannae/SIC-Artificial-Intelligence/main/SIC_AI_Coding_Exercises/SIC_AI_Chapter_04_Coding_Exercises/data_studentlist.csv'\n",
    "response = requests.get(url)\n",
    "with open('data_studentlist.csv', 'wb') as file:\n",
    "    file.write(response.content)\n",
    "print(\"File downloaded successfully.\")"
   ]
  },
  {
   "cell_type": "code",
   "execution_count": 109,
   "id": "039d19da-f0d3-41e0-9890-4d0a8f38c1e1",
   "metadata": {},
   "outputs": [],
   "source": [
    "df = pd.read_csv('data_studentlist.csv', header='infer')"
   ]
  },
  {
   "cell_type": "code",
   "execution_count": 111,
   "id": "0e99fef2-10fe-48c5-bef2-767790ab0a95",
   "metadata": {},
   "outputs": [
    {
     "data": {
      "text/plain": [
       "(17, 8)"
      ]
     },
     "execution_count": 111,
     "metadata": {},
     "output_type": "execute_result"
    }
   ],
   "source": [
    "df.shape"
   ]
  },
  {
   "cell_type": "code",
   "execution_count": 113,
   "id": "214bcf90-bd69-419a-a4c9-7d0916484877",
   "metadata": {},
   "outputs": [
    {
     "data": {
      "text/html": [
       "<div>\n",
       "<style scoped>\n",
       "    .dataframe tbody tr th:only-of-type {\n",
       "        vertical-align: middle;\n",
       "    }\n",
       "\n",
       "    .dataframe tbody tr th {\n",
       "        vertical-align: top;\n",
       "    }\n",
       "\n",
       "    .dataframe thead th {\n",
       "        text-align: right;\n",
       "    }\n",
       "</style>\n",
       "<table border=\"1\" class=\"dataframe\">\n",
       "  <thead>\n",
       "    <tr style=\"text-align: right;\">\n",
       "      <th></th>\n",
       "      <th>name</th>\n",
       "      <th>gender</th>\n",
       "      <th>age</th>\n",
       "      <th>grade</th>\n",
       "      <th>absence</th>\n",
       "      <th>bloodtype</th>\n",
       "      <th>height</th>\n",
       "      <th>weight</th>\n",
       "    </tr>\n",
       "  </thead>\n",
       "  <tbody>\n",
       "    <tr>\n",
       "      <th>0</th>\n",
       "      <td>Jared Diamond</td>\n",
       "      <td>M</td>\n",
       "      <td>23</td>\n",
       "      <td>3</td>\n",
       "      <td>Y</td>\n",
       "      <td>O</td>\n",
       "      <td>165.3</td>\n",
       "      <td>68.2</td>\n",
       "    </tr>\n",
       "    <tr>\n",
       "      <th>1</th>\n",
       "      <td>Sarah O'Donnel</td>\n",
       "      <td>F</td>\n",
       "      <td>22</td>\n",
       "      <td>2</td>\n",
       "      <td>N</td>\n",
       "      <td>AB</td>\n",
       "      <td>170.1</td>\n",
       "      <td>53.0</td>\n",
       "    </tr>\n",
       "    <tr>\n",
       "      <th>2</th>\n",
       "      <td>Brian Martin</td>\n",
       "      <td>M</td>\n",
       "      <td>24</td>\n",
       "      <td>4</td>\n",
       "      <td>N</td>\n",
       "      <td>B</td>\n",
       "      <td>175.0</td>\n",
       "      <td>80.1</td>\n",
       "    </tr>\n",
       "    <tr>\n",
       "      <th>3</th>\n",
       "      <td>David Hassel</td>\n",
       "      <td>M</td>\n",
       "      <td>23</td>\n",
       "      <td>3</td>\n",
       "      <td>N</td>\n",
       "      <td>AB</td>\n",
       "      <td>182.1</td>\n",
       "      <td>85.7</td>\n",
       "    </tr>\n",
       "    <tr>\n",
       "      <th>4</th>\n",
       "      <td>Clara Rodriquez</td>\n",
       "      <td>F</td>\n",
       "      <td>20</td>\n",
       "      <td>1</td>\n",
       "      <td>Y</td>\n",
       "      <td>A</td>\n",
       "      <td>168.0</td>\n",
       "      <td>49.5</td>\n",
       "    </tr>\n",
       "  </tbody>\n",
       "</table>\n",
       "</div>"
      ],
      "text/plain": [
       "              name gender  age  grade absence bloodtype  height  weight\n",
       "0    Jared Diamond      M   23      3       Y         O   165.3    68.2\n",
       "1   Sarah O'Donnel      F   22      2       N        AB   170.1    53.0\n",
       "2     Brian Martin      M   24      4       N         B   175.0    80.1\n",
       "3     David Hassel      M   23      3       N        AB   182.1    85.7\n",
       "4  Clara Rodriquez      F   20      1       Y         A   168.0    49.5"
      ]
     },
     "execution_count": 113,
     "metadata": {},
     "output_type": "execute_result"
    }
   ],
   "source": [
    "df.head(5)"
   ]
  },
  {
   "cell_type": "code",
   "execution_count": 115,
   "id": "c539a6d1-0d02-4de7-be8e-840a9b71e14a",
   "metadata": {},
   "outputs": [
    {
     "data": {
      "text/plain": [
       "170.03529411764703"
      ]
     },
     "execution_count": 115,
     "metadata": {},
     "output_type": "execute_result"
    }
   ],
   "source": [
    "df['height'].mean()"
   ]
  },
  {
   "cell_type": "code",
   "execution_count": 117,
   "id": "92abec08-e964-4ae2-862b-8b277d1d84df",
   "metadata": {},
   "outputs": [
    {
     "data": {
      "text/plain": [
       "61.61867647058828"
      ]
     },
     "execution_count": 117,
     "metadata": {},
     "output_type": "execute_result"
    }
   ],
   "source": [
    "df['height'].var(ddof=1)"
   ]
  },
  {
   "cell_type": "code",
   "execution_count": 119,
   "id": "acbccf3b-119e-4656-92a5-45e7778e8b8e",
   "metadata": {},
   "outputs": [
    {
     "data": {
      "text/plain": [
       "7.849756459316956"
      ]
     },
     "execution_count": 119,
     "metadata": {},
     "output_type": "execute_result"
    }
   ],
   "source": [
    "df['height'].std(ddof=1)"
   ]
  },
  {
   "cell_type": "code",
   "execution_count": 121,
   "id": "ddf15add-94a1-4bb2-910e-43961230f948",
   "metadata": {},
   "outputs": [
    {
     "data": {
      "text/plain": [
       "169.2"
      ]
     },
     "execution_count": 121,
     "metadata": {},
     "output_type": "execute_result"
    }
   ],
   "source": [
    "df['height'].median()"
   ]
  },
  {
   "cell_type": "code",
   "execution_count": 123,
   "id": "4f0c0c23-7780-4d67-aa29-5c75af420815",
   "metadata": {},
   "outputs": [
    {
     "data": {
      "text/plain": [
       "155.2"
      ]
     },
     "execution_count": 123,
     "metadata": {},
     "output_type": "execute_result"
    }
   ],
   "source": [
    "df['height'].min()"
   ]
  },
  {
   "cell_type": "code",
   "execution_count": 125,
   "id": "b0272ca9-e651-45d4-9e06-a8176d4d5818",
   "metadata": {},
   "outputs": [
    {
     "data": {
      "text/plain": [
       "182.1"
      ]
     },
     "execution_count": 125,
     "metadata": {},
     "output_type": "execute_result"
    }
   ],
   "source": [
    "df['height'].max()"
   ]
  },
  {
   "cell_type": "code",
   "execution_count": 127,
   "id": "c9492549-080c-40e4-80d6-69a3ac6edfe2",
   "metadata": {},
   "outputs": [
    {
     "data": {
      "text/plain": [
       "160.48"
      ]
     },
     "execution_count": 127,
     "metadata": {},
     "output_type": "execute_result"
    }
   ],
   "source": [
    "df['height'].quantile(0.1)"
   ]
  },
  {
   "cell_type": "code",
   "execution_count": 129,
   "id": "7a71c5ec-dc66-49b1-aa47-500b2c48b613",
   "metadata": {},
   "outputs": [
    {
     "data": {
      "text/plain": [
       "179.1"
      ]
     },
     "execution_count": 129,
     "metadata": {},
     "output_type": "execute_result"
    }
   ],
   "source": [
    "df['height'].quantile(0.9)"
   ]
  },
  {
   "cell_type": "code",
   "execution_count": 131,
   "id": "9eb49625-1c62-46b0-9adc-00285023d9e3",
   "metadata": {},
   "outputs": [
    {
     "data": {
      "text/plain": [
       "10.799999999999983"
      ]
     },
     "execution_count": 131,
     "metadata": {},
     "output_type": "execute_result"
    }
   ],
   "source": [
    "IQR = df['height'].quantile(0.75)- df['height'].quantile(0.25)\n",
    "IQR"
   ]
  },
  {
   "cell_type": "code",
   "execution_count": 133,
   "id": "3f13b65c-46a0-4073-9ff2-98680ec3ccbc",
   "metadata": {},
   "outputs": [
    {
     "data": {
      "image/png": "[encoded data removed]",
      "text/plain": [
       "<Figure size 640x480 with 1 Axes>"
      ]
     },
     "metadata": {},
     "output_type": "display_data"
    }
   ],
   "source": [
    "plt.boxplot(df['height'])\n",
    "plt.show()"
   ]
  },
  {
   "cell_type": "code",
   "execution_count": 135,
   "id": "c8ccc5d8-5c85-431f-a53e-949d7f88b344",
   "metadata": {},
   "outputs": [
    {
     "data": {
      "image/png": "[encoded data removed]",
      "text/plain": [
       "<Figure size 640x480 with 1 Axes>"
      ]
     },
     "metadata": {},
     "output_type": "display_data"
    }
   ],
   "source": [
    "plt.boxplot(df['weight'])\n",
    "plt.show()"
   ]
  },
  {
   "cell_type": "code",
   "execution_count": 137,
   "id": "70aa552e-ad95-4fab-a4f7-c3f50c2edbaa",
   "metadata": {},
   "outputs": [
    {
     "data": {
      "text/plain": [
       "61.790698529411785"
      ]
     },
     "execution_count": 137,
     "metadata": {},
     "output_type": "execute_result"
    }
   ],
   "source": [
    "df['height'].cov(df['weight'])"
   ]
  },
  {
   "cell_type": "code",
   "execution_count": 139,
   "id": "6846e9b1-0a67-4c49-ae24-9dcc24861b01",
   "metadata": {},
   "outputs": [
    {
     "data": {
      "text/plain": [
       "0.6641815979588611"
      ]
     },
     "execution_count": 139,
     "metadata": {},
     "output_type": "execute_result"
    }
   ],
   "source": [
    "df['height'].corr(df['weight'])"
   ]
  },
  {
   "cell_type": "code",
   "execution_count": 141,
   "id": "51d3c8bd-0abc-4e71-b223-6d05a50990b1",
   "metadata": {},
   "outputs": [
    {
     "data": {
      "text/plain": [
       "0.6641815979588611"
      ]
     },
     "execution_count": 141,
     "metadata": {},
     "output_type": "execute_result"
    }
   ],
   "source": [
    "df['height'].cov(df['weight'])/(df['height'].std()*df['weight'].std())"
   ]
  },
  {
   "cell_type": "code",
   "execution_count": 143,
   "id": "2ccbec99-6960-4e15-a85a-56f60eabae5e",
   "metadata": {},
   "outputs": [
    {
     "data": {
      "image/png": "[encoded data removed]",
      "text/plain": [
       "<Figure size 640x480 with 1 Axes>"
      ]
     },
     "metadata": {},
     "output_type": "display_data"
    }
   ],
   "source": [
    "df.plot.scatter(x='weight',y='height')\n",
    "plt.show()"
   ]
  },
  {
   "cell_type": "code",
   "execution_count": 145,
   "id": "b3322312-6ca1-4953-afce-58d9fd73a691",
   "metadata": {},
   "outputs": [
    {
     "data": {
      "image/png": "[encoded data removed]",
      "text/plain": [
       "<Figure size 640x480 with 1 Axes>"
      ]
     },
     "metadata": {},
     "output_type": "display_data"
    }
   ],
   "source": [
    "base=df[df.gender=='M'].plot.scatter(x='height',y='weight',color='blue',marker='o',s=20)\n",
    "df[df.gender=='F'].plot.scatter(x='height',y='weight',color='red',marker='o',ax=base)\n",
    "plt.show()"
   ]
  },
  {
   "cell_type": "markdown",
   "id": "25650124-4869-498c-ab26-4f4aa1b269ea",
   "metadata": {},
   "source": [
    "# EX_0304"
   ]
  },
  {
   "cell_type": "code",
   "execution_count": 148,
   "id": "054c8552-0cdb-4d7a-b3a2-cf3c81673587",
   "metadata": {},
   "outputs": [],
   "source": [
    " import scipy.stats as st\n",
    "import numpy as np"
   ]
  },
  {
   "cell_type": "code",
   "execution_count": 152,
   "id": "8f8e36d9-788f-4bf4-8f1e-c71d207dee49",
   "metadata": {},
   "outputs": [],
   "source": [
    "mu = 0\n",
    "sigma = 1"
   ]
  },
  {
   "cell_type": "code",
   "execution_count": 154,
   "id": "f22b581b-9192-42af-a2c0-3b9912ba4b2d",
   "metadata": {},
   "outputs": [
    {
     "data": {
      "text/plain": [
       "1.6448536269514722"
      ]
     },
     "execution_count": 154,
     "metadata": {},
     "output_type": "execute_result"
    }
   ],
   "source": [
    "alpha = 0.95\n",
    "st.norm.ppf(alpha, loc = mu , scale = sigma)"
   ]
  },
  {
   "cell_type": "code",
   "execution_count": 156,
   "id": "67f113e3-d7f3-4581-8db5-30ecb4692cf8",
   "metadata": {},
   "outputs": [
    {
     "data": {
      "text/plain": [
       "1.959963984540054"
      ]
     },
     "execution_count": 156,
     "metadata": {},
     "output_type": "execute_result"
    }
   ],
   "source": [
    "alpha = 0.975\n",
    "st.norm.ppf(alpha, loc = mu , scale = sigma)"
   ]
  },
  {
   "cell_type": "code",
   "execution_count": 160,
   "id": "4e8c1e4d-f495-42fe-b094-ab9192efa4a1",
   "metadata": {},
   "outputs": [
    {
     "name": "stdout",
     "output_type": "stream",
     "text": [
      "Degree of Freedom =  100000, Quantile =   1.644869\n"
     ]
    }
   ],
   "source": [
    "alpha=0.95\n",
    "for df in [10,50,100,2000,100000]:\n",
    "    val = st.t.ppf(alpha,df)\n",
    "print( 'Degree of Freedom = %7d, Quantile = %10f' %(df,val))"
   ]
  },
  {
   "cell_type": "code",
   "execution_count": 162,
   "id": "25a0a203-4f69-46a5-8cfa-86e14b6a9de1",
   "metadata": {},
   "outputs": [
    {
     "name": "stdout",
     "output_type": "stream",
     "text": [
      "Degree of Freedom =  100000, Quantile =   1.959988\n"
     ]
    }
   ],
   "source": [
    "alpha=0.95\n",
    "alpha=0.975\n",
    "for df in [10,50,100,2000,100000]:\n",
    "    val = st.t.ppf(alpha,df)\n",
    "print( 'Degree of Freedom = %7d, Quantile = %10f' %(df,val))"
   ]
  },
  {
   "cell_type": "code",
   "execution_count": 164,
   "id": "bf48dbf9-e920-4241-b120-94599a869d3e",
   "metadata": {},
   "outputs": [
    {
     "data": {
      "text/plain": [
       "0.8437643724222779"
      ]
     },
     "execution_count": 164,
     "metadata": {},
     "output_type": "execute_result"
    }
   ],
   "source": [
    "df = 5\n",
    "st.chi2.cdf(8, df)"
   ]
  },
  {
   "cell_type": "code",
   "execution_count": 166,
   "id": "5d759754-8f8c-4a2f-93b8-979113e0dd1c",
   "metadata": {},
   "outputs": [
    {
     "data": {
      "text/plain": [
       "8.000000010482703"
      ]
     },
     "execution_count": 166,
     "metadata": {},
     "output_type": "execute_result"
    }
   ],
   "source": [
    "df = 5\n",
    "alpha = 0.843764373\n",
    "st.chi2.ppf(alpha, df)"
   ]
  },
  {
   "cell_type": "markdown",
   "id": "c470f07c-daf4-44fb-a1fc-71db8876cdca",
   "metadata": {},
   "source": [
    "# EX_0306"
   ]
  },
  {
   "cell_type": "code",
   "execution_count": 169,
   "id": "7f6d0eb1-1420-450f-ba58-baeed9efd02c",
   "metadata": {},
   "outputs": [],
   "source": [
    " import numpy as np\n",
    "import scipy.stats as st"
   ]
  },
  {
   "cell_type": "code",
   "execution_count": 171,
   "id": "03f5c64a-0bbb-4daa-8fa8-8166c1162724",
   "metadata": {},
   "outputs": [
    {
     "data": {
      "text/plain": [
       "(0.45249302291006066, 0.6475069770899394)"
      ]
     },
     "execution_count": 171,
     "metadata": {},
     "output_type": "execute_result"
    }
   ],
   "source": [
    "n_yes = 55\n",
    "n_total = 100\n",
    "p_mean = n_yes/n_total\n",
    "SE = np.sqrt(p_mean*(1-p_mean)/n_total)\n",
    "st.norm.interval(0.95, loc = p_mean, scale=SE)"
   ]
  },
  {
   "cell_type": "code",
   "execution_count": 173,
   "id": "e99ad563-4521-42a6-90d0-07168bf77805",
   "metadata": {},
   "outputs": [
    {
     "data": {
      "text/plain": [
       "(0.5191655864637935, 0.5808344135362066)"
      ]
     },
     "execution_count": 173,
     "metadata": {},
     "output_type": "execute_result"
    }
   ],
   "source": [
    "n_yes = 550\n",
    "n_total = 1000\n",
    "p_mean = n_yes/n_total\n",
    "SE = np.sqrt(p_mean*(1-p_mean)/n_total)\n",
    "st.norm.interval(0.95, loc = p_mean, scale=SE)"
   ]
  },
  {
   "cell_type": "code",
   "execution_count": null,
   "id": "d62696ed-4180-4b2b-81c1-054bca0582f7",
   "metadata": {},
   "outputs": [],
   "source": []
  }
 ],
 "metadata": {
  "kernelspec": {
   "display_name": "Python 3 (ipykernel)",
   "language": "python",
   "name": "python3"
  },
  "language_info": {
   "codemirror_mode": {
    "name": "ipython",
    "version": 3
   },
   "file_extension": ".py",
   "mimetype": "text/x-python",
   "name": "python",
   "nbconvert_exporter": "python",
   "pygments_lexer": "ipython3",
   "version": "3.12.4"
  }
 },
 "nbformat": 4,
 "nbformat_minor": 5
}
